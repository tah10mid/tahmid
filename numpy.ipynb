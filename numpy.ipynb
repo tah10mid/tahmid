{
  "nbformat": 4,
  "nbformat_minor": 0,
  "metadata": {
    "colab": {
      "provenance": [],
      "authorship_tag": "ABX9TyNHbYJ9Yw0nzwiJEXc97NhE",
      "include_colab_link": true
    },
    "kernelspec": {
      "name": "python3",
      "display_name": "Python 3"
    },
    "language_info": {
      "name": "python"
    }
  },
  "cells": [
    {
      "cell_type": "markdown",
      "metadata": {
        "id": "view-in-github",
        "colab_type": "text"
      },
      "source": [
        "<a href=\"https://colab.research.google.com/github/tah10mid/tahmid/blob/main/numpy.ipynb\" target=\"_parent\"><img src=\"https://colab.research.google.com/assets/colab-badge.svg\" alt=\"Open In Colab\"/></a>"
      ]
    },
    {
      "cell_type": "code",
      "execution_count": null,
      "metadata": {
        "colab": {
          "base_uri": "https://localhost:8080/"
        },
        "id": "m2Vnf3tLiIA7",
        "outputId": "1b2fbd66-633c-4d82-f65b-416cffed0a5b"
      },
      "outputs": [
        {
          "output_type": "stream",
          "name": "stdout",
          "text": [
            "[1 2 4]\n",
            "<class 'numpy.ndarray'>\n"
          ]
        }
      ],
      "source": [
        "import numpy as np\n",
        "arr=np.array([1,2,4])\n",
        "print(arr)\n",
        "print(type(arr))"
      ]
    },
    {
      "cell_type": "code",
      "source": [
        "import numpy as np\n",
        "myArr=np.zeros(5,dtype=\"int\")\n",
        "print(myArr)\n",
        "print(myArr.size)"
      ],
      "metadata": {
        "id": "Z4cVpglO5GWT",
        "colab": {
          "base_uri": "https://localhost:8080/"
        },
        "outputId": "87638f27-052b-4229-f6ad-bae10a2a5f6e"
      },
      "execution_count": null,
      "outputs": [
        {
          "output_type": "stream",
          "name": "stdout",
          "text": [
            "[0 0 0 0 0]\n",
            "5\n"
          ]
        }
      ]
    },
    {
      "cell_type": "code",
      "source": [
        "import numpy as np\n",
        "myArr=np.array([11,12,13,14])\n",
        "print(myArr)"
      ],
      "metadata": {
        "colab": {
          "base_uri": "https://localhost:8080/"
        },
        "id": "GmeprXftv3J-",
        "outputId": "43225595-a6b0-4145-dda4-1c75965523ed"
      },
      "execution_count": null,
      "outputs": [
        {
          "output_type": "stream",
          "name": "stdout",
          "text": [
            "[11 12 13 14]\n"
          ]
        }
      ]
    },
    {
      "cell_type": "code",
      "source": [
        "newsize=myArr.size+1\n",
        "myArr2=np.zeros(newsize,dtype=\"int\")\n",
        "for i in range(myArr.size):\n",
        "  myArr2[i]=myArr[i]\n",
        "myArr2[-1]=15\n",
        "print(myArr2)"
      ],
      "metadata": {
        "colab": {
          "base_uri": "https://localhost:8080/"
        },
        "id": "vC87EDDCyx1T",
        "outputId": "8361b82a-cd19-43db-a09b-4db05fcfeea7"
      },
      "execution_count": null,
      "outputs": [
        {
          "output_type": "stream",
          "name": "stdout",
          "text": [
            "[11 12 13 14 15]\n"
          ]
        }
      ]
    },
    {
      "cell_type": "code",
      "source": [
        "for i in range(myArr2.size):\n",
        "  print(i,myArr2[i])"
      ],
      "metadata": {
        "colab": {
          "base_uri": "https://localhost:8080/"
        },
        "id": "w6_lMs87yx2S",
        "outputId": "907ed479-9ef6-48a4-fd0a-f72d970957af"
      },
      "execution_count": null,
      "outputs": [
        {
          "output_type": "stream",
          "name": "stdout",
          "text": [
            "0 11\n",
            "1 12\n",
            "2 13\n",
            "3 14\n",
            "4 15\n"
          ]
        }
      ]
    },
    {
      "cell_type": "code",
      "source": [
        " length=int(input('Tell me the length first: '))\n",
        " myArr3=np.zeros(length,dtype=\"int\")\n",
        " for i in range(length):\n",
        "  val=int(input('Enter a value:'))\n",
        "  myArr3[i]=val\n",
        "print(myArr3)"
      ],
      "metadata": {
        "colab": {
          "base_uri": "https://localhost:8080/"
        },
        "id": "kcb90fp-zQZN",
        "outputId": "9254c9f5-c84d-4b03-b0c2-9db7500d24c9"
      },
      "execution_count": null,
      "outputs": [
        {
          "output_type": "stream",
          "name": "stdout",
          "text": [
            "Tell me the length first: 4\n",
            "Enter a value:11\n",
            "Enter a value:21\n",
            "Enter a value:31\n",
            "Enter a value:41\n",
            "[11 21 31 41]\n"
          ]
        }
      ]
    },
    {
      "cell_type": "code",
      "source": [
        "length=int(input('Tell me the length first: '))\n",
        "myArr3=np.zeros(length,dtype=\"int\")\n",
        "for i in range(length):\n",
        "  val=int(input('Enter a value:'))\n",
        "  myArr3[i]=val\n",
        "  for x in range(myArray3.size):\n",
        "   if myArr3[x]==11:\n",
        "    print(\"peyechi\")"
      ],
      "metadata": {
        "colab": {
          "base_uri": "https://localhost:8080/",
          "height": 279
        },
        "id": "AdyKulShlKgA",
        "outputId": "16c44c71-94c6-4bb5-d1be-b72784b98b28"
      },
      "execution_count": null,
      "outputs": [
        {
          "name": "stdout",
          "output_type": "stream",
          "text": [
            "Tell me the length first: 4\n",
            "Enter a value:11\n"
          ]
        },
        {
          "output_type": "error",
          "ename": "NameError",
          "evalue": "ignored",
          "traceback": [
            "\u001b[0;31m---------------------------------------------------------------------------\u001b[0m",
            "\u001b[0;31mNameError\u001b[0m                                 Traceback (most recent call last)",
            "\u001b[0;32m<ipython-input-3-a90075fd171b>\u001b[0m in \u001b[0;36m<cell line: 3>\u001b[0;34m()\u001b[0m\n\u001b[1;32m      4\u001b[0m   \u001b[0mval\u001b[0m\u001b[0;34m=\u001b[0m\u001b[0mint\u001b[0m\u001b[0;34m(\u001b[0m\u001b[0minput\u001b[0m\u001b[0;34m(\u001b[0m\u001b[0;34m'Enter a value:'\u001b[0m\u001b[0;34m)\u001b[0m\u001b[0;34m)\u001b[0m\u001b[0;34m\u001b[0m\u001b[0;34m\u001b[0m\u001b[0m\n\u001b[1;32m      5\u001b[0m   \u001b[0mmyArr3\u001b[0m\u001b[0;34m[\u001b[0m\u001b[0mi\u001b[0m\u001b[0;34m]\u001b[0m\u001b[0;34m=\u001b[0m\u001b[0mval\u001b[0m\u001b[0;34m\u001b[0m\u001b[0;34m\u001b[0m\u001b[0m\n\u001b[0;32m----> 6\u001b[0;31m   \u001b[0;32mfor\u001b[0m \u001b[0mx\u001b[0m \u001b[0;32min\u001b[0m \u001b[0mrange\u001b[0m\u001b[0;34m(\u001b[0m\u001b[0mmyArray3\u001b[0m\u001b[0;34m.\u001b[0m\u001b[0msize\u001b[0m\u001b[0;34m)\u001b[0m\u001b[0;34m:\u001b[0m\u001b[0;34m\u001b[0m\u001b[0;34m\u001b[0m\u001b[0m\n\u001b[0m\u001b[1;32m      7\u001b[0m    \u001b[0;32mif\u001b[0m \u001b[0mmyArr3\u001b[0m\u001b[0;34m[\u001b[0m\u001b[0mx\u001b[0m\u001b[0;34m]\u001b[0m\u001b[0;34m==\u001b[0m\u001b[0;36m11\u001b[0m\u001b[0;34m:\u001b[0m\u001b[0;34m\u001b[0m\u001b[0;34m\u001b[0m\u001b[0m\n\u001b[1;32m      8\u001b[0m     \u001b[0mprint\u001b[0m\u001b[0;34m(\u001b[0m\u001b[0;34m\"peyechi\"\u001b[0m\u001b[0;34m)\u001b[0m\u001b[0;34m\u001b[0m\u001b[0;34m\u001b[0m\u001b[0m\n",
            "\u001b[0;31mNameError\u001b[0m: name 'myArray3' is not defined"
          ]
        }
      ]
    },
    {
      "cell_type": "code",
      "source": [
        "array=np.array([10,3,20,1,6,5,11,2])\n",
        "def selectionsort(arr):\n",
        "  for i in range(arr.size):\n",
        "    min_index=i\n",
        "    for j in range((i+1),arr.size):\n",
        "      if arr[j]<arr[min_index]:\n",
        "        min_index=j\n",
        "    temp=arr[i]\n",
        "    arr[i]=arr[min_index]\n",
        "    arr[min_index]=temp\n",
        "  return arr\n",
        "print(selectionsort(array))"
      ],
      "metadata": {
        "colab": {
          "base_uri": "https://localhost:8080/"
        },
        "id": "69MTTwHDzuJq",
        "outputId": "9259681a-fd29-48ff-ed7a-ff0245daab05"
      },
      "execution_count": null,
      "outputs": [
        {
          "output_type": "stream",
          "name": "stdout",
          "text": [
            "[ 1  2  3  5  6 10 11 20]\n"
          ]
        }
      ]
    },
    {
      "cell_type": "code",
      "source": [
        "def bubbleSortAscending(arr):\n",
        "    for i in range(arr.size-1):\n",
        "        for j in range(arr.size-1-i):\n",
        "            if arr[j+1] < arr[j]:\n",
        "                # swapping\n",
        "                temp = arr[j]\n",
        "                arr[j] = arr[j+1]\n",
        "                arr[j+1] = temp\n",
        "    return arr\n",
        "\n",
        "myArr = np.array([10,3,20,1,6,5,11,2])\n",
        "print(\"Before Sorting:\", myArr)\n",
        "\n",
        "myArr = bubbleSortAscending(myArr)\n",
        "print(\"After Sorting: \", myArr)"
      ],
      "metadata": {
        "colab": {
          "base_uri": "https://localhost:8080/"
        },
        "id": "c_-p0NofOWsn",
        "outputId": "20ef8218-8557-4eb9-d6e3-8d98657af2fa"
      },
      "execution_count": null,
      "outputs": [
        {
          "output_type": "stream",
          "name": "stdout",
          "text": [
            "Before Sorting: [10  3 20  1  6  5 11  2]\n",
            "After Sorting:  [ 1  2  3  5  6 10 11 20]\n"
          ]
        }
      ]
    },
    {
      "cell_type": "markdown",
      "source": [
        "2D matrix"
      ],
      "metadata": {
        "id": "AKzljYyJ210l"
      }
    },
    {
      "cell_type": "code",
      "source": [
        "import numpy as np\n",
        "arr2D=np.zeros(shape=(3,3),dtype='int')\n",
        "print(arr2D)"
      ],
      "metadata": {
        "colab": {
          "base_uri": "https://localhost:8080/"
        },
        "id": "wsPF6Ifj20ms",
        "outputId": "8ee13a43-0433-4ed4-8894-b6a24b9eaf00"
      },
      "execution_count": null,
      "outputs": [
        {
          "output_type": "stream",
          "name": "stdout",
          "text": [
            "[[0 0 0]\n",
            " [0 0 0]\n",
            " [0 0 0]]\n"
          ]
        }
      ]
    },
    {
      "cell_type": "code",
      "source": [
        "import numpy as np\n",
        "arr2D=np.array([[1,2,3],[4,5,6],[7,8,9]])\n",
        "print(arr2D)"
      ],
      "metadata": {
        "colab": {
          "base_uri": "https://localhost:8080/"
        },
        "id": "TwSilY-P3glo",
        "outputId": "f8d7b9cb-79ad-40d7-998a-aaa1e256bbb3"
      },
      "execution_count": null,
      "outputs": [
        {
          "output_type": "stream",
          "name": "stdout",
          "text": [
            "[[1 2 3]\n",
            " [4 5 6]\n",
            " [7 8 9]]\n"
          ]
        }
      ]
    },
    {
      "cell_type": "code",
      "source": [
        "mat1=np.array([[1,2,3,4],[5,6,7,8],[9,10,11,12]])\n",
        "print(\"First row:\",mat1[0])\n",
        "print(mat1[2][1])\n",
        "print(\"Row\",mat1.shape[0])\n",
        "print(\"column\",mat1.shape[1])\n",
        "print('Total',mat1.size)\n",
        "print(len(mat1))\n",
        "mat1[2][3]=20\n",
        "print(mat1)"
      ],
      "metadata": {
        "colab": {
          "base_uri": "https://localhost:8080/"
        },
        "id": "TMufrEFi43Df",
        "outputId": "d0ed83c5-db94-4ee6-9e12-deb9fe158e12"
      },
      "execution_count": null,
      "outputs": [
        {
          "output_type": "stream",
          "name": "stdout",
          "text": [
            "First row: [1 2 3 4]\n",
            "10\n",
            "Row 3\n",
            "column 4\n",
            "Total 12\n",
            "3\n",
            "[[ 1  2  3  4]\n",
            " [ 5  6  7  8]\n",
            " [ 9 10 11 20]]\n"
          ]
        }
      ]
    },
    {
      "cell_type": "markdown",
      "source": [
        "2d iterate"
      ],
      "metadata": {
        "id": "6U4iVr4B7S9o"
      }
    },
    {
      "cell_type": "code",
      "source": [
        "mat2=np.array([[1,2,3,4],[5,6,7,8]])\n",
        "rowL=mat2.shape[0]\n",
        "colL=mat2.shape[1]\n",
        "for r in range(rowL):\n",
        "  for c in range(colL):\n",
        "    print(mat2[r][c],end=\"\")\n",
        "  print()"
      ],
      "metadata": {
        "colab": {
          "base_uri": "https://localhost:8080/"
        },
        "id": "JnDI9AKI6TCO",
        "outputId": "480b3f5e-6276-44fb-e7fa-98edfcc5539b"
      },
      "execution_count": null,
      "outputs": [
        {
          "output_type": "stream",
          "name": "stdout",
          "text": [
            "1234\n",
            "5678\n"
          ]
        }
      ]
    },
    {
      "cell_type": "code",
      "source": [
        "mat1=np.array([[1,3],[1,0],[1,2]])\n",
        "mat2=np.array([[0,0],[7,5],[2,1]])\n",
        "rowL=mat1.shape[0]\n",
        "colL=mat1.shape[1]\n",
        "mat3=np.zeros(shape=(mat1.shape[0],mat1.shape[1]),dtype=\"int\")\n",
        "for r in range(rowL):\n",
        "  for c in range(colL):\n",
        "      mat3[r][c]=mat1[r][c]+mat2[r][c]\n",
        "print(mat3)\n",
        "\n"
      ],
      "metadata": {
        "colab": {
          "base_uri": "https://localhost:8080/"
        },
        "id": "rAGeffw0_0LT",
        "outputId": "358ac9dc-6d09-4afb-b498-079fefe3c4c9"
      },
      "execution_count": null,
      "outputs": [
        {
          "output_type": "stream",
          "name": "stdout",
          "text": [
            "[[1 3]\n",
            " [8 5]\n",
            " [3 3]]\n"
          ]
        }
      ]
    },
    {
      "cell_type": "code",
      "source": [
        "mat1=np.array([[0,2,3],[1,1,0]])\n",
        "rowL=mat1.shape[0]\n",
        "colL=mat1.shape[1]\n",
        "a=2\n",
        "mat2=np.zeros(shape=(rowL,colL),dtype=\"int\")\n",
        "for r in range(rowL):\n",
        "  for c in range(colL):\n",
        "     mat2[r][c]=a*mat1[r][c]\n",
        "print(mat2)"
      ],
      "metadata": {
        "colab": {
          "base_uri": "https://localhost:8080/"
        },
        "id": "-QAfzkL4Bn9C",
        "outputId": "c436dc21-9e5f-47e1-e35b-a1a5c8643f90"
      },
      "execution_count": null,
      "outputs": [
        {
          "output_type": "stream",
          "name": "stdout",
          "text": [
            "[[0 4 6]\n",
            " [2 2 0]]\n"
          ]
        }
      ]
    },
    {
      "cell_type": "code",
      "source": [
        "mat1=np.array([[0,5],[1,2],[3,4]])\n",
        "mat2=np.array([[3,2,1],[1,2,4]])\n",
        "mat1row=mat1.shape[0]\n",
        "mat1col=mat1.shape[1]\n",
        "mat2row=mat2.shape[0]\n",
        "mat2col=mat2.shape[1]\n",
        "mat3=np.zeros(shape=(mat1row,mat2col),dtype='int')\n",
        "mat3row=mat3.shape[0]\n",
        "mat3col=mat3.shape[1]\n",
        "for r in range(mat3row):\n",
        "  for c in range(mat3col):\n",
        "    total=0\n",
        "    for x in range(mat1col):\n",
        "      total+=mat1[r][x]*mat2[x][c]\n",
        "    mat3[r][c]=total\n",
        "print(mat3)"
      ],
      "metadata": {
        "colab": {
          "base_uri": "https://localhost:8080/"
        },
        "id": "Ty-AjuiXFqwq",
        "outputId": "d0b39c5f-e526-4d3a-ba8f-2353cc9ff405"
      },
      "execution_count": null,
      "outputs": [
        {
          "output_type": "stream",
          "name": "stdout",
          "text": [
            "[[ 5 10 20]\n",
            " [ 5  6  9]\n",
            " [13 14 19]]\n"
          ]
        }
      ]
    }
  ]
}